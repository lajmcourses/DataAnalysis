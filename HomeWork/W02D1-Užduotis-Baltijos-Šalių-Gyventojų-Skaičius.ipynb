{
 "cells": [
  {
   "cell_type": "markdown",
   "id": "6a219135",
   "metadata": {},
   "source": [
    "<div style=\"display:block; margin-bottom:50px\">\n",
    "<h1 style=\"margin-bottom:25px; font-size:3rem;color:#4c76ce;text-align:center;\">\n",
    "    Duomenų vizualizacija su Matplotlib</h1>\n",
    "    \n",
    "<h2 style=\"margin-bottom: 25px;font-size:2rem;text-align:center;\">\n",
    "    Namų darbas: Gyventojų skaičius Baltijos šalyse</h2>\n",
    "       \n",
    "<img src=\"https://raw.githubusercontent.com/lajmcourses/Images/master/baltic_states.jpg\"\n",
    "     style=\"position:absolute;top:5px;left:25px;height:150px;width:auto;margin-bottom:35px;\">\n",
    "</div>\n",
    "    "
   ]
  },
  {
   "cell_type": "markdown",
   "id": "12ea617c",
   "metadata": {},
   "source": [
    "<p style=\"color:orangered;font-size:25px;\">Namų darbas turi būti atliktas iki 2022-04-27</p>"
   ]
  },
  {
   "cell_type": "markdown",
   "id": "52e2adac",
   "metadata": {},
   "source": [
    "**Pastabos:** \n",
    "\n",
    "Kiekvienas grafikas turi būti tinkamai aprašytas, t.y turi turėti\n",
    "    \n",
    "1) Pavadinimą\n",
    "\n",
    "2) Ašys turi būti tinkamai ir aiškiai pavadintos, ir esant reikalui turi būti nurodomi ašių matavimo vienetai.\n",
    "\n",
    "3) Tinklelį\n",
    "    \n",
    "Kiekvienas grafikas turi būti tinkamai apiformintas, pateikta informacija turi būti suprantama vartotojui, tekstas turi būti įskaitomas ."
   ]
  },
  {
   "cell_type": "markdown",
   "id": "2be6c26e",
   "metadata": {},
   "source": [
    "# Užduotis"
   ]
  },
  {
   "cell_type": "markdown",
   "id": "87e6448a",
   "metadata": {},
   "source": [
    "Q1. Sukurkite Python sąrašą (list) iš Baltijos šalių pavadinimų\n",
    "\n",
    "\n",
    "Q2. Sukurkite Python sąrašą (list) su Baltijos šalių sostinėmis \n",
    "\n",
    "\n",
    "Q3. Sukurkite Python žodyną (dictionary) su Baltijos šalių gyventojų skaičiumi\n",
    "\n",
    "\n",
    "Q4. Sukurkite Python žodyną (dictionary) su Baltijos šalių sostinių gyventojų skaičiumi (duomenis imkite iš Vikipedijos)\n",
    "\n",
    "\n",
    "Q5. Pavaizduokite Baltijos šalių gyventojų skaičių stulpelinėjė diagramoje\n",
    "\n",
    "\n",
    "Q6. Pavaizduokite Baltijos šalių sostinių gyventojų skaičių stulpelinėjė diagramoje.\n",
    "\n",
    "\n",
    "Q7. Pavaizduokite Baltijos šalių gyventojų proporcijas skritulinėje diagramoje\n",
    "\n",
    "\n",
    "Q8. Suraskite Lietuvos, Latvijos ir Estijos gyventojų skaičiaus dinamiką nuo 2015 iki 2020. Pavaizduokite gyventojų skaičiaus keitimą linijinėje diagramoje. \n",
    "\n",
    "\n",
    "Q9. Suraskite Lietuvos, Latvijos ir Estijos gyventojų skaičiaus dinamiką nuo 2015 iki 2020. Pavaizduokite gyventojų skaičiaus dinamiką, panuduojant **Grouped Bar Chart** tipo grafiką\n"
   ]
  },
  {
   "cell_type": "markdown",
   "id": "264dbeea",
   "metadata": {},
   "source": [
    "# Duomenų šaltiniai (demografinė statistika): \n",
    "\n",
    "https://ec.europa.eu/eurostat/databrowser/view/demo_gind/default/table?lang=en\n",
    "https://stats.oecd.org/\n",
    "\n",
    "https://stats.oecd.org/"
   ]
  },
  {
   "cell_type": "code",
   "execution_count": null,
   "id": "c73054d0",
   "metadata": {},
   "outputs": [],
   "source": []
  }
 ],
 "metadata": {
  "kernelspec": {
   "display_name": "Python 3 (ipykernel)",
   "language": "python",
   "name": "python3"
  },
  "language_info": {
   "codemirror_mode": {
    "name": "ipython",
    "version": 3
   },
   "file_extension": ".py",
   "mimetype": "text/x-python",
   "name": "python",
   "nbconvert_exporter": "python",
   "pygments_lexer": "ipython3",
   "version": "3.9.9"
  }
 },
 "nbformat": 4,
 "nbformat_minor": 5
}
