{
 "cells": [
  {
   "cell_type": "markdown",
   "id": "a8d915c6",
   "metadata": {},
   "source": [
    "\n",
    "# Python programavimo užduotys: darbas su CSV failais\n",
    "\n"
   ]
  },
  {
   "cell_type": "markdown",
   "id": "f4a5d370",
   "metadata": {},
   "source": [
    "1) Parašykite programą kuri sukurs failą **users.csv** ir susirašys vartotojų sąrašą į failą.\n",
    "\n",
    "Vartotojų sąrašas\n",
    "\n",
    "    Name, Last, Age\n",
    "    Ted, Turner, 45\n",
    "    Sarah, Simmons, 25\n",
    "    James, White, 38\n"
   ]
  },
  {
   "cell_type": "markdown",
   "id": "8ed059f3",
   "metadata": {},
   "source": [
    "2) Parašykite funkciją, kurį įrašo į failą **users.csv** papildomą vartotoją.\n",
    "\n",
    "Parašykite programą, kurį funkcijos pagalba įrašys į failą **users.csv** papildomus vartotojus:\n",
    "    \n",
    "    John Doe, 22\n",
    "    Claire Peterson, 34"
   ]
  },
  {
   "cell_type": "markdown",
   "id": "dc80589e",
   "metadata": {},
   "source": [
    "3) Parašykite programą, kuri atsispausdins kiekvienovartotojo pavarde vardą ir amžių į ekraną\n",
    "\n",
    "Pavyzdys:\n",
    "    \n",
    "    Turner Ted, 45"
   ]
  },
  {
   "cell_type": "markdown",
   "id": "65b562ba",
   "metadata": {},
   "source": [
    "4) BikesOnline užduotis\n",
    "\n",
    "BikesOnline tai internetinė dviračių parduotuvė prekiaujanti dviračiais. Šiuo metu BikesOnline prekiauja dviračiais JAV, Europoje ir Australijoje.\n",
    "\n",
    "Pardavimų vadybininkas Tomas paruošė dviračių kaininką vasaros sezonui ir dabar jis turi pateikti dviračių kainas Europos ir Australijos partneriams.\n",
    "\n",
    "Tomas paruošė csv failą su dviračių kainomis:\n",
    "\n",
    "https://raw.githubusercontent.com/lajmcourses/Datasets/master/bike_prices/bike_prices.csv\n",
    "\n",
    "\n",
    "Jūsų užduotis yra pakeisti kaininko struktūrą, taip, kad dviračio modelis, dydis ir pavadinimas būtų atskiruose stulpeliuose.\n",
    "\n",
    "Kaininko įrašo struktūra: Category, Sub-Category, Model, Color, Size, Price in USD\n",
    "\n",
    "Pirmas žodis lauke **Product** - dviračio modelis, antras žodis - dviračio spalva ir trečias žodis - dviračio dydis. \n",
    "\n",
    "Naują kaininką išsaugokite į **csv failą**: new_pricelist.csv\n"
   ]
  },
  {
   "cell_type": "code",
   "execution_count": null,
   "id": "991905c6",
   "metadata": {},
   "outputs": [],
   "source": []
  }
 ],
 "metadata": {
  "kernelspec": {
   "display_name": "Python 3 (ipykernel)",
   "language": "python",
   "name": "python3"
  },
  "language_info": {
   "codemirror_mode": {
    "name": "ipython",
    "version": 3
   },
   "file_extension": ".py",
   "mimetype": "text/x-python",
   "name": "python",
   "nbconvert_exporter": "python",
   "pygments_lexer": "ipython3",
   "version": "3.9.9"
  }
 },
 "nbformat": 4,
 "nbformat_minor": 5
}
